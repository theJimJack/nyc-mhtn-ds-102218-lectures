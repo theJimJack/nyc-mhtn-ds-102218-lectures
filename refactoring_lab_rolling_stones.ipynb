{
 "cells": [
  {
   "cell_type": "code",
   "execution_count": 2,
   "metadata": {},
   "outputs": [
    {
     "ename": "ModuleNotFoundError",
     "evalue": "No module named 'functions'",
     "output_type": "error",
     "traceback": [
      "\u001b[0;31m---------------------------------------------------------------------------\u001b[0m",
      "\u001b[0;31mModuleNotFoundError\u001b[0m                       Traceback (most recent call last)",
      "\u001b[0;32m<ipython-input-2-bb6b024ebd4a>\u001b[0m in \u001b[0;36m<module>\u001b[0;34m()\u001b[0m\n\u001b[0;32m----> 1\u001b[0;31m \u001b[0;32mfrom\u001b[0m \u001b[0mfunctions\u001b[0m \u001b[0;32mimport\u001b[0m \u001b[0malbums_original\u001b[0m\u001b[0;34m\u001b[0m\u001b[0m\n\u001b[0m",
      "\u001b[0;31mModuleNotFoundError\u001b[0m: No module named 'functions'"
     ]
    }
   ],
   "source": [
    "from functions import albums_original"
   ]
  },
  {
   "cell_type": "code",
   "execution_count": null,
   "metadata": {},
   "outputs": [],
   "source": [
    "def most_popular_word():\n",
    "    empty_list = []\n",
    "\n",
    "    for record in albums:\n",
    "        album_name = record['album']\n",
    "        album_names_split = album_name.split()\n",
    "        empty_list.append(album_names_split)\n",
    "\n",
    "    flattened = [val for sublist in empty_list for val in sublist]\n",
    "\n",
    "    counter_dict = {}\n",
    "\n",
    "    for word in flattened:\n",
    "        if word in counter_dict:\n",
    "            counter_dict[word] += 1\n",
    "        else:\n",
    "            counter_dict[word] = 1\n",
    "\n",
    "    to_tuples = counter_dict.items()\n",
    "    max_tuple_value = max(to_tuples, key=lambda x: x[1])[1]\n",
    "\n",
    "    output = []\n",
    "\n",
    "    for tuple_item in to_tuples:\n",
    "        if tuple_item[1] == max_tuple_value:\n",
    "            output.append(tuple_item[0])\n",
    "\n",
    "    return output"
   ]
  }
 ],
 "metadata": {
  "kernelspec": {
   "display_name": "Python 3",
   "language": "python",
   "name": "python3"
  },
  "language_info": {
   "codemirror_mode": {
    "name": "ipython",
    "version": 3
   },
   "file_extension": ".py",
   "mimetype": "text/x-python",
   "name": "python",
   "nbconvert_exporter": "python",
   "pygments_lexer": "ipython3",
   "version": "3.7.0"
  }
 },
 "nbformat": 4,
 "nbformat_minor": 2
}
